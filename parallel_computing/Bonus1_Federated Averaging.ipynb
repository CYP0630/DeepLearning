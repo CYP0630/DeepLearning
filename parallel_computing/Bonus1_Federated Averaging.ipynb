{
 "cells": [
  {
   "cell_type": "markdown",
   "metadata": {},
   "source": [
    "# Bonus1: Parallel Algorithms: Federated Averaging\n",
    "\n",
    "### Name: [Yupeng Cao]\n",
    "### ID: 10454637\n"
   ]
  },
  {
   "cell_type": "markdown",
   "metadata": {},
   "source": [
    "## 0. You will do the following:\n",
    "\n",
    "1. Read the lecture note: [click here](https://github.com/wangshusen/DeepLearning/blob/master/LectureNotes/Parallel/Parallel.pdf)\n",
    "\n",
    "2. Implement federated averaging or decentralized optimization.\n",
    "\n",
    "3. Plot the convergence curve. (The x-axis can be ```number of epochs``` or ```number of communication```. You must make sure the label is correct.)\n",
    "\n",
    "4. Convert the .IPYNB file to .HTML file.\n",
    "\n",
    "    * The HTML file must contain **the code** and **the output after execution**.\n",
    "    \n",
    "5. Upload this .HTML file to your Google Drive, Dropbox, or your Github repo. (If it is submitted to Google Drive or Dropbox, you must make the file open-access.)\n",
    "\n",
    "6. Submit the link to this .HTML file to Canvas.\n",
    "\n",
    "    * Example: https://github.com/wangshusen/CS583-2020S/blob/master/homework/Bonus1/Bonus1.html\n",
    "\n"
   ]
  },
  {
   "cell_type": "code",
   "execution_count": null,
   "metadata": {},
   "outputs": [],
   "source": []
  },
  {
   "cell_type": "markdown",
   "metadata": {},
   "source": [
    "# 1. Data processing\n",
    "\n",
    "- Download the Diabete dataset from https://www.csie.ntu.edu.tw/~cjlin/libsvmtools/datasets/binary/diabetes\n",
    "- Load the data using sklearn.\n",
    "- Preprocess the data."
   ]
  },
  {
   "cell_type": "markdown",
   "metadata": {},
   "source": [
    "## 1.1. Load the data"
   ]
  },
  {
   "cell_type": "code",
   "execution_count": 1,
   "metadata": {},
   "outputs": [
    {
     "name": "stdout",
     "output_type": "stream",
     "text": [
      "Shape of x: (768, 8)\n",
      "Shape of y: (768,)\n"
     ]
    }
   ],
   "source": [
    "from sklearn import datasets\n",
    "import numpy\n",
    "\n",
    "x_sparse, y = datasets.load_svmlight_file('diabetes')\n",
    "x = x_sparse.todense()\n",
    "\n",
    "print('Shape of x: ' + str(x.shape))\n",
    "print('Shape of y: ' + str(y.shape))"
   ]
  },
  {
   "cell_type": "markdown",
   "metadata": {},
   "source": [
    "## 1.2. Partition to training and test sets"
   ]
  },
  {
   "cell_type": "code",
   "execution_count": 2,
   "metadata": {},
   "outputs": [
    {
     "name": "stdout",
     "output_type": "stream",
     "text": [
      "Shape of x_train: (640, 8)\n",
      "Shape of x_test: (128, 8)\n",
      "Shape of y_train: (640, 1)\n",
      "Shape of y_test: (128, 1)\n"
     ]
    }
   ],
   "source": [
    "# partition the data to training and test sets\n",
    "n = x.shape[0]\n",
    "n_train = 640\n",
    "n_test = n - n_train\n",
    "\n",
    "rand_indices = numpy.random.permutation(n)\n",
    "train_indices = rand_indices[0:n_train]\n",
    "test_indices = rand_indices[n_train:n]\n",
    "\n",
    "x_train = x[train_indices, :]\n",
    "x_test = x[test_indices, :]\n",
    "y_train = y[train_indices].reshape(n_train, 1)\n",
    "y_test = y[test_indices].reshape(n_test, 1)\n",
    "\n",
    "print('Shape of x_train: ' + str(x_train.shape))\n",
    "print('Shape of x_test: ' + str(x_test.shape))\n",
    "print('Shape of y_train: ' + str(y_train.shape))\n",
    "print('Shape of y_test: ' + str(y_test.shape))"
   ]
  },
  {
   "cell_type": "markdown",
   "metadata": {},
   "source": [
    "## 1.3. Feature scaling"
   ]
  },
  {
   "cell_type": "markdown",
   "metadata": {},
   "source": [
    "Use the standardization to trainsform both training and test features"
   ]
  },
  {
   "cell_type": "code",
   "execution_count": 3,
   "metadata": {},
   "outputs": [
    {
     "name": "stdout",
     "output_type": "stream",
     "text": [
      "test mean = \n",
      "[[ 0.04969539 -0.05248267  0.06452019  0.18436681  0.13481327  0.00568106\n",
      "   0.2912809   0.04394978]]\n",
      "test std = \n",
      "[[1.00456111 1.10923979 0.93503732 1.00842351 1.12855629 1.15134106\n",
      "  1.26543545 1.09817632]]\n"
     ]
    }
   ],
   "source": [
    "# Standardization\n",
    "import numpy\n",
    "\n",
    "# calculate mu and sig using the training set\n",
    "d = x_train.shape[1]\n",
    "mu = numpy.mean(x_train, axis=0).reshape(1, d)\n",
    "sig = numpy.std(x_train, axis=0).reshape(1, d)\n",
    "\n",
    "# transform the training features\n",
    "x_train = (x_train - mu) / (sig + 1E-6)\n",
    "\n",
    "# transform the test features\n",
    "x_test = (x_test - mu) / (sig + 1E-6)\n",
    "\n",
    "print('test mean = ')\n",
    "print(numpy.mean(x_test, axis=0))\n",
    "\n",
    "print('test std = ')\n",
    "print(numpy.std(x_test, axis=0))"
   ]
  },
  {
   "cell_type": "markdown",
   "metadata": {},
   "source": [
    "## 1.4. Add a dimension of all ones"
   ]
  },
  {
   "cell_type": "code",
   "execution_count": 4,
   "metadata": {},
   "outputs": [
    {
     "name": "stdout",
     "output_type": "stream",
     "text": [
      "Shape of x_train: (640, 9)\n",
      "Shape of x_test: (128, 9)\n"
     ]
    }
   ],
   "source": [
    "n_train, d = x_train.shape\n",
    "x_train = numpy.concatenate((x_train, numpy.ones((n_train, 1))), axis=1)\n",
    "\n",
    "n_test, d = x_test.shape\n",
    "x_test = numpy.concatenate((x_test, numpy.ones((n_test, 1))), axis=1)\n",
    "\n",
    "print('Shape of x_train: ' + str(x_train.shape))\n",
    "print('Shape of x_test: ' + str(x_test.shape))"
   ]
  },
  {
   "cell_type": "code",
   "execution_count": 5,
   "metadata": {},
   "outputs": [],
   "source": [
    "\"\"\"\n",
    "Some code and Function/Variable naming is refering from HW1.\n",
    "\"\"\"\n",
    "\n",
    "class Worker:\n",
    "    \n",
    "    def __init__(self, x, y):\n",
    "        self.x = x #s-by-d\n",
    "        self.y = y #s-by-1\n",
    "        self.s = x.shape[0] #number of local samples\n",
    "        self.d = x.shape[1] #number of features\n",
    "        self.w = numpy.zeros((d, 1)) #d-by-1\n",
    "    \n",
    "    # Set the model parameters to the latest\n",
    "    def set_param(self, w):\n",
    "        self.w = w \n",
    "        \n",
    "    # Compute the local loss    \n",
    "    def loss(self):\n",
    "        yx = numpy.multiply(self.y, self.x) #s-by-d \n",
    "        yxw = numpy.dot(yx, self.w) #s-by-1\n",
    "        vec1 = numpy.exp(-yxw) #s-by-1\n",
    "        vec2 = numpy.log(1 + vec1) #s-by-1\n",
    "        return numpy.sum(vec2)         \n",
    "    \n",
    "    # Compute local gradient\n",
    "    def gradient(self):\n",
    "        yx = numpy.multiply(self.y, self.x) # s−by−d matrix\n",
    "        yxw = numpy.dot(yx, self.w) # s−by−1 matrix\n",
    "        vec1 = numpy.exp(yxw) # s−by−1 matrix\n",
    "        vec2 = numpy.divide(yx, 1+vec1) # s−by−d matrix\n",
    "        g = -numpy.sum(vec2, axis=0).reshape(self.d, 1) # d-by-1 matrix\n",
    "        return g\n",
    "    \n",
    "    # Compute gradient descent\n",
    "    def grad_descent(self, stepsize):\n",
    "        g = self.gradient() \n",
    "        self.w -= stepsize * g \n",
    "        \n",
    "        return self.w\n",
    "    \n",
    "    # Compute local gradient for SGD\n",
    "    def stochastic_objective_gradient(self, w, xi, yi, lam):\n",
    "        d = xi.shape[0] \n",
    "        yx = yi * xi #1-by-d\n",
    "        yxw = float(numpy.dot(yx, w)) #scalar\n",
    "        \n",
    "        loss = numpy.log(1 + numpy.exp(-yxw)) #scalar\n",
    "        reg = lam / 2 * numpy.sum(w * w)\n",
    "        obj = loss + reg\n",
    "        \n",
    "        g_loss = -yx.T / (1 + numpy.exp(yxw)) #d-by-1\n",
    "        g = g_loss + lam * w #d-by-1\n",
    "        \n",
    "        return obj, g\n",
    "    \n",
    "    # Compute local gradient descent for SGD\n",
    "    def sgd(self, stepsize, lam):\n",
    "        n = self.x.shape[0] \n",
    "        grads = 0\n",
    "        \n",
    "        #Shuffle Data Samples\n",
    "        rand_indices = numpy.random.permutation(n)\n",
    "        x_rand = self.x[rand_indices, :]\n",
    "        y_rand = self.y[rand_indices, :]\n",
    "        \n",
    "        objval = 0\n",
    "        for i in range(self.s):\n",
    "            xi = x_rand[i, :] # 1-by-d matrix\n",
    "            yi = float(y_rand[i, :]) \n",
    "            obj, g = self.stochastic_objective_gradient(self.w, xi, yi, lam)\n",
    "            objval += obj\n",
    "            self.w -= stepsize * g\n",
    "            grads = g\n",
    "        return grads \n",
    "\n"
   ]
  },
  {
   "cell_type": "code",
   "execution_count": 6,
   "metadata": {},
   "outputs": [],
   "source": [
    "class Server:\n",
    "    def __init__(self,m,n,d):\n",
    "        self.m = m # work nodes\n",
    "        self.n = n # training samples\n",
    "        self.d = d # features\n",
    "        self.w = numpy.zeros((d,1)) # d-by-1 model parameter vector\n",
    "        self.g = numpy.zeros((d,1)) # d-by-1 gradient\n",
    "        self.v = numpy.zeros((d,1)) # d-by-1 momentum\n",
    "        self.loss = 0 #loss function value \n",
    "        self.obj = 0 #objective function value\n",
    "\n",
    "    def broadcast(self):\n",
    "        return self.w\n",
    "\n",
    "    # Sum the grad and loss from workers\n",
    "    def aggregate(self, grads, losses):\n",
    "        self.g = numpy.zeros((self.d,1)) #d-by-1\n",
    "        self.loss = 0\n",
    "        for k in range(self.m):\n",
    "            self.g += grads[k]\n",
    "            self.loss += losses[k]\n",
    "  \n",
    "      # compute the grad (from loss and regular)\n",
    "    def gradient(self, lam):\n",
    "        self.g = self.g / self.n + lam * self.w\n",
    "  \n",
    "  # compute the obj function\n",
    "    def objective(self, lam):\n",
    "        reg= lam / 2 * numpy.sum(self.w * self.w)\n",
    "        self.obj = self.loss  / self.n + reg\n",
    "        return self.obj\n",
    "\n",
    "  # Update the parameters using accelerated gradient descent\n",
    "  # alpha: learning rate (step size)\n",
    "  # beta: momentum param\n",
    "    def agd(self, alpha, bate):\n",
    "        self.v *= beta\n",
    "        self.v += self.g\n",
    "        self.w -= alpha * self.v"
   ]
  },
  {
   "cell_type": "code",
   "execution_count": 7,
   "metadata": {},
   "outputs": [],
   "source": [
    "import math\n",
    "\n",
    "def create_server_workers(m,x,y):\n",
    "    n, d = x.shape\n",
    "    s = math.floor(n / m)\n",
    "    server = Server(m,n,d)\n",
    "    workers = []\n",
    "\n",
    "    for i in range(m):\n",
    "        indices = list(range(i * s, (i+1)*s))\n",
    "        worker = Worker(x[indices,:],y[indices,:])\n",
    "        workers.append(worker)\n",
    "  \n",
    "    return server, workers"
   ]
  },
  {
   "cell_type": "code",
   "execution_count": 8,
   "metadata": {},
   "outputs": [],
   "source": [
    "# Initialize the hyper-parameter\n",
    "lam = 1e-6\n",
    "alpha = 1e-1\n",
    "beta = 0.9\n",
    "max_epoch = 50\n",
    "stepsize = 10e-5"
   ]
  },
  {
   "cell_type": "code",
   "execution_count": 9,
   "metadata": {},
   "outputs": [],
   "source": [
    "# Input:\n",
    "#       q: local nterations. \n",
    "\n",
    "def paralle_gd(q):\n",
    "    \n",
    "    m = 4\n",
    "    server, workers = create_server_workers(m, x_train, y_train)\n",
    "\n",
    "    obj_values = []\n",
    "    for t in range(max_epoch):\n",
    "        # step 1: Broadcast w to nodes.\n",
    "        w = server.broadcast()\n",
    "        for i in range(m):\n",
    "            workers[i].set_param(w)\n",
    "\n",
    "        # step 2: worker calculate gradient at local\n",
    "        grads = []\n",
    "        losses = []\n",
    "    \n",
    "        for i in range(m):\n",
    "            for j in range(q):\n",
    "                g = workers[i].grad_descent(stepsize)\n",
    "                grads.append(g)\n",
    "        \n",
    "            l = workers[i].loss()\n",
    "            losses.append(l)\n",
    "        \n",
    "        # step 3: Worker node push the gradient to server.\n",
    "        server.aggregate(grads,losses)\n",
    "\n",
    "        # step 4: server update the model parameters \n",
    "        server.gradient(lam)\n",
    "        obj = server.objective(lam)\n",
    "        print('obj function value',obj)\n",
    "        obj_values.append(obj)\n",
    "        server.agd(alpha,beta)\n",
    "        \n",
    "    return obj_values"
   ]
  },
  {
   "cell_type": "code",
   "execution_count": 10,
   "metadata": {},
   "outputs": [
    {
     "name": "stdout",
     "output_type": "stream",
     "text": [
      "obj function value 0.6880023332355842\n",
      "obj function value 0.6801833637565399\n",
      "obj function value 0.6727667403320613\n",
      "obj function value 0.6657325372415559\n",
      "obj function value 0.6590611164860001\n",
      "obj function value 0.6527332906899934\n",
      "obj function value 0.6467304477789451\n",
      "obj function value 0.6410346428225113\n",
      "obj function value 0.6356286621379157\n",
      "obj function value 0.6304960643334936\n",
      "obj function value 0.6256212024936577\n",
      "obj function value 0.6209892312014843\n",
      "obj function value 0.6165861015942471\n",
      "obj function value 0.6123985471713356\n",
      "obj function value 0.6084140626361932\n",
      "obj function value 0.6046208776612731\n",
      "obj function value 0.6010079271200732\n",
      "obj function value 0.5975648190324265\n",
      "obj function value 0.5942818012157294\n",
      "obj function value 0.5911497274217882\n",
      "obj function value 0.5881600235620229\n",
      "obj function value 0.5853046544782822\n",
      "obj function value 0.5825760915980754\n",
      "obj function value 0.5799672817174941\n",
      "obj function value 0.5774716170787767\n",
      "obj function value 0.5750829068491015\n",
      "obj function value 0.5727953500599623\n",
      "obj function value 0.5706035100299706\n",
      "obj function value 0.5685022902661286\n",
      "obj function value 0.5664869118178127\n",
      "obj function value 0.5645528920425104\n",
      "obj function value 0.5626960247316082\n",
      "obj function value 0.560912361537284\n",
      "obj function value 0.5591981946370478\n",
      "obj function value 0.5575500405700938\n",
      "obj function value 0.5559646251788569\n",
      "obj function value 0.5544388695896183\n",
      "obj function value 0.5529698771673617\n",
      "obj function value 0.5515549213820874\n",
      "obj function value 0.5501914345262516\n",
      "obj function value 0.5488769972257553\n",
      "obj function value 0.5476093286898447\n",
      "obj function value 0.5463862776483088\n",
      "obj function value 0.5452058139273982\n",
      "obj function value 0.5440660206188946\n",
      "obj function value 0.5429650867996972\n",
      "obj function value 0.5419013007621115\n",
      "obj function value 0.5408730437177521\n",
      "obj function value 0.5398787839405411\n",
      "obj function value 0.5389170713167323\n"
     ]
    }
   ],
   "source": [
    "gd_q_1 = paralle_gd(q=1)"
   ]
  },
  {
   "cell_type": "code",
   "execution_count": 11,
   "metadata": {},
   "outputs": [
    {
     "name": "stdout",
     "output_type": "stream",
     "text": [
      "obj function value 0.656930395846184\n",
      "obj function value 0.6141744907979039\n",
      "obj function value 0.5845776828726061\n",
      "obj function value 0.5633154507545144\n",
      "obj function value 0.5475209186535553\n",
      "obj function value 0.535451072731736\n",
      "obj function value 0.5260083179789097\n",
      "obj function value 0.5184758787058282\n",
      "obj function value 0.5123694968847883\n",
      "obj function value 0.5073518509924883\n",
      "obj function value 0.5031815169720887\n",
      "obj function value 0.49968152932185894\n",
      "obj function value 0.49671941944832854\n",
      "obj function value 0.4941941824079519\n",
      "obj function value 0.4920275469134355\n",
      "obj function value 0.49015798949373734\n",
      "obj function value 0.4885365416004044\n",
      "obj function value 0.4871237946931894\n",
      "obj function value 0.48588772248505563\n",
      "obj function value 0.4848020713379411\n",
      "obj function value 0.4838451527315901\n",
      "obj function value 0.48299892497815067\n",
      "obj function value 0.48224828620176674\n",
      "obj function value 0.4815805238127719\n",
      "obj function value 0.4809848814243735\n",
      "obj function value 0.4804522149714353\n",
      "obj function value 0.4799747173376792\n",
      "obj function value 0.47954569613881826\n",
      "obj function value 0.479159393139163\n",
      "obj function value 0.4788108365598635\n",
      "obj function value 0.4784957195794404\n",
      "obj function value 0.4782102998442238\n",
      "obj function value 0.4779513159447739\n",
      "obj function value 0.47771591767717336\n",
      "obj function value 0.47750160756804116\n",
      "obj function value 0.4773061916513181\n",
      "obj function value 0.47712773788092167\n",
      "obj function value 0.4769645408737742\n",
      "obj function value 0.4768150919226933\n",
      "obj function value 0.4766780534132722\n",
      "obj function value 0.47655223693446586\n",
      "obj function value 0.4764365844976721\n",
      "obj function value 0.4763301523801925\n",
      "obj function value 0.4762320971910503\n",
      "obj function value 0.47614166382413914\n",
      "obj function value 0.47605817501856085\n",
      "obj function value 0.4759810222911757\n",
      "obj function value 0.47590965804367386\n",
      "obj function value 0.47584358867738275\n",
      "obj function value 0.4757823685747169\n"
     ]
    }
   ],
   "source": [
    "gd_q_8 = paralle_gd(q=8)"
   ]
  },
  {
   "cell_type": "code",
   "execution_count": 12,
   "metadata": {},
   "outputs": [],
   "source": [
    "def paralle_sgd(q):\n",
    "    m = 4\n",
    "    server, workers = create_server_workers(m, x_train, y_train)\n",
    "\n",
    "    obj_values = []\n",
    "    for t in range(max_epoch):\n",
    "        # step 1 broadcast\n",
    "        w = server.broadcast()\n",
    "        for i in range(m):\n",
    "            workers[i].set_param(w)\n",
    "\n",
    "        # step 2 worker local compute\n",
    "        grads = []\n",
    "        losses = []\n",
    "    \n",
    "        for i in range(m):\n",
    "            for j in range(q):\n",
    "                g = workers[i].sgd(stepsize, lam)\n",
    "                grads.append(g)\n",
    "        \n",
    "            l = workers[i].loss()\n",
    "            losses.append(l)\n",
    "        \n",
    "        # step 3: aggregate the workers' outputs\n",
    "        server.aggregate(grads,losses)\n",
    "\n",
    "        # step 4: server update the model parameters\n",
    "        server.gradient(lam)\n",
    "        obj = server.objective(lam)\n",
    "        print('obj function value',obj)\n",
    "        obj_values.append(obj)\n",
    "        server.agd(alpha,beta)\n",
    "    return obj_values"
   ]
  },
  {
   "cell_type": "code",
   "execution_count": 13,
   "metadata": {},
   "outputs": [
    {
     "name": "stdout",
     "output_type": "stream",
     "text": [
      "obj function value 0.6880194626075747\n",
      "obj function value 0.6800950289197012\n",
      "obj function value 0.6725141835456192\n",
      "obj function value 0.6653105256858554\n",
      "obj function value 0.6584410367148764\n",
      "obj function value 0.6519123330288944\n",
      "obj function value 0.6457257794037743\n",
      "obj function value 0.6398390220264757\n",
      "obj function value 0.6342368082132661\n",
      "obj function value 0.6289237523832808\n",
      "obj function value 0.623906682908364\n",
      "obj function value 0.6191149555030145\n",
      "obj function value 0.6145548468014483\n",
      "obj function value 0.6101275175634363\n",
      "obj function value 0.6058726519698546\n",
      "obj function value 0.6017682396820533\n",
      "obj function value 0.5978469959850107\n",
      "obj function value 0.594062179404614\n",
      "obj function value 0.5904275986006964\n",
      "obj function value 0.5868973630831458\n",
      "obj function value 0.5834756199532897\n",
      "obj function value 0.5801496976098838\n",
      "obj function value 0.5769231332359922\n",
      "obj function value 0.5738159325756811\n",
      "obj function value 0.5708582121558649\n",
      "obj function value 0.5680492423372026\n",
      "obj function value 0.5653447632004158\n",
      "obj function value 0.5627461895077946\n",
      "obj function value 0.5602316804615007\n",
      "obj function value 0.5578505560259804\n",
      "obj function value 0.5555534848600745\n",
      "obj function value 0.5533379315031257\n",
      "obj function value 0.5511963757819771\n",
      "obj function value 0.5491248541562253\n",
      "obj function value 0.5471168184749116\n",
      "obj function value 0.5451908945235383\n",
      "obj function value 0.5433556477335931\n",
      "obj function value 0.5416009412045365\n",
      "obj function value 0.5399021750935359\n",
      "obj function value 0.538254031319468\n",
      "obj function value 0.5366505580438576\n",
      "obj function value 0.5351344439997158\n",
      "obj function value 0.533658610890154\n",
      "obj function value 0.5322272978648889\n",
      "obj function value 0.5308444050331304\n",
      "obj function value 0.5295041902247021\n",
      "obj function value 0.5282001416554543\n",
      "obj function value 0.5269301257853904\n",
      "obj function value 0.5256960511530261\n",
      "obj function value 0.5245153405456479\n"
     ]
    }
   ],
   "source": [
    "sgd_q_1 = paralle_sgd(q=1)"
   ]
  },
  {
   "cell_type": "code",
   "execution_count": 14,
   "metadata": {},
   "outputs": [
    {
     "name": "stdout",
     "output_type": "stream",
     "text": [
      "obj function value 0.6570279582381762\n",
      "obj function value 0.6142787814379711\n",
      "obj function value 0.5846139560419512\n",
      "obj function value 0.563212628769502\n",
      "obj function value 0.5472625473343045\n",
      "obj function value 0.535052125120979\n",
      "obj function value 0.5254590891405173\n",
      "obj function value 0.5177855098931625\n",
      "obj function value 0.5115485831736413\n",
      "obj function value 0.5064109032093784\n",
      "obj function value 0.5021296263858864\n",
      "obj function value 0.49852730724648875\n",
      "obj function value 0.49546374865076237\n",
      "obj function value 0.4928545554481318\n",
      "obj function value 0.490613291199244\n",
      "obj function value 0.4886760839240857\n",
      "obj function value 0.48700021090579354\n",
      "obj function value 0.48553925879461735\n",
      "obj function value 0.48425600525215834\n",
      "obj function value 0.4831314987983355\n",
      "obj function value 0.48213711656486125\n",
      "obj function value 0.4812550204786029\n",
      "obj function value 0.48047076180236753\n",
      "obj function value 0.479774340826582\n",
      "obj function value 0.47915815324089056\n",
      "obj function value 0.4786058323376663\n",
      "obj function value 0.4781160638715013\n",
      "obj function value 0.4776778574618247\n",
      "obj function value 0.47728207623433583\n",
      "obj function value 0.4769244025960701\n",
      "obj function value 0.47660276863404016\n",
      "obj function value 0.4763090496179544\n",
      "obj function value 0.47604339054187234\n",
      "obj function value 0.475802506495674\n",
      "obj function value 0.4755834244987285\n",
      "obj function value 0.4753861482636932\n",
      "obj function value 0.475207408105129\n",
      "obj function value 0.47505010817408494\n",
      "obj function value 0.47490896428567353\n",
      "obj function value 0.4747785246029036\n",
      "obj function value 0.47465905619994875\n",
      "obj function value 0.4745521175093766\n",
      "obj function value 0.4744567715806411\n",
      "obj function value 0.4743682115898811\n",
      "obj function value 0.4742880562853575\n",
      "obj function value 0.47421777165161727\n",
      "obj function value 0.4741529299149645\n",
      "obj function value 0.47409294600038826\n",
      "obj function value 0.47404115661662616\n",
      "obj function value 0.4739927095126948\n"
     ]
    }
   ],
   "source": [
    "sgd_q_8 = paralle_sgd(q=8)"
   ]
  },
  {
   "cell_type": "code",
   "execution_count": 15,
   "metadata": {},
   "outputs": [
    {
     "data": {
      "image/png": "[encoded data removed]",
      "text/plain": [
       "<Figure size 720x576 with 1 Axes>"
      ]
     },
     "metadata": {
      "needs_background": "light"
     },
     "output_type": "display_data"
    }
   ],
   "source": [
    "import matplotlib.pyplot as plt\n",
    "%matplotlib inline\n",
    "\n",
    "fig = plt.figure(figsize=(10, 8))\n",
    "epochs_len = range(len(gd_q_1 ))\n",
    "\n",
    "line0, = plt.plot(epochs_len, gd_q_1, '-b', LineWidth=2)\n",
    "line1, = plt.plot(epochs_len, gd_q_8, '-r', LineWidth=2)\n",
    "line2, = plt.plot(epochs_len, sgd_q_1, '-y', LineWidth=2)\n",
    "line3, = plt.plot(epochs_len, sgd_q_8, '-p', LineWidth=2)\n",
    "\n",
    "plt.xlabel('Epochs', FontSize=20)\n",
    "plt.ylabel('Objective Value', FontSize=20)\n",
    "plt.xticks(FontSize=16)\n",
    "plt.yticks(FontSize=16)\n",
    "plt.legend([line0, line1,line2,line3], ['GD q1', 'GD q8','SGD q1','SGD q8'], fontsize=10)\n",
    "plt.tight_layout()\n",
    "plt.show()\n",
    "fig.savefig('compare.pdf', format='pdf')"
   ]
  }
 ],
 "metadata": {
  "kernelspec": {
   "display_name": "Python 3",
   "language": "python",
   "name": "python3"
  },
  "language_info": {
   "codemirror_mode": {
    "name": "ipython",
    "version": 3
   },
   "file_extension": ".py",
   "mimetype": "text/x-python",
   "name": "python",
   "nbconvert_exporter": "python",
   "pygments_lexer": "ipython3",
   "version": "3.7.4"
  }
 },
 "nbformat": 4,
 "nbformat_minor": 2
}
