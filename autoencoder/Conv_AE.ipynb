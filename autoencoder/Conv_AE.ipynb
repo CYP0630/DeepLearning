{
 "cells": [
  {
   "cell_type": "code",
   "execution_count": 1,
   "metadata": {},
   "outputs": [
    {
     "name": "stderr",
     "output_type": "stream",
     "text": [
      "Using TensorFlow backend.\n"
     ]
    }
   ],
   "source": [
    "from keras.datasets import mnist"
   ]
  },
  {
   "cell_type": "code",
   "execution_count": 2,
   "metadata": {},
   "outputs": [],
   "source": [
    "(x_train, y_train), (x_test, y_test) = mnist.load_data()"
   ]
  },
  {
   "cell_type": "code",
   "execution_count": 3,
   "metadata": {},
   "outputs": [
    {
     "name": "stdout",
     "output_type": "stream",
     "text": [
      "(60000, 28, 28)\n"
     ]
    }
   ],
   "source": [
    "print(x_train.shape)"
   ]
  },
  {
   "cell_type": "code",
   "execution_count": 8,
   "metadata": {},
   "outputs": [],
   "source": [
    "import numpy as np"
   ]
  },
  {
   "cell_type": "code",
   "execution_count": 9,
   "metadata": {},
   "outputs": [],
   "source": [
    "x_train = np.expand_dims(x_train, -1)\n",
    "x_test = np.expand_dims(x_test, -1)\n"
   ]
  },
  {
   "cell_type": "code",
   "execution_count": 4,
   "metadata": {},
   "outputs": [],
   "source": [
    "from keras.layers import Input, Dense, Conv2D, MaxPooling2D, UpSampling2D\n",
    "from keras import models"
   ]
  },
  {
   "cell_type": "code",
   "execution_count": 13,
   "metadata": {},
   "outputs": [
    {
     "name": "stdout",
     "output_type": "stream",
     "text": [
      "Model: \"model_3\"\n",
      "_________________________________________________________________\n",
      "Layer (type)                 Output Shape              Param #   \n",
      "=================================================================\n",
      "input_4 (InputLayer)         (None, 28, 28, 1)         0         \n",
      "_________________________________________________________________\n",
      "conv2d_19 (Conv2D)           (None, 28, 28, 8)         80        \n",
      "_________________________________________________________________\n",
      "max_pooling2d_10 (MaxPooling (None, 14, 14, 8)         0         \n",
      "_________________________________________________________________\n",
      "conv2d_20 (Conv2D)           (None, 14, 14, 4)         292       \n",
      "_________________________________________________________________\n",
      "max_pooling2d_11 (MaxPooling (None, 7, 7, 4)           0         \n",
      "_________________________________________________________________\n",
      "conv2d_21 (Conv2D)           (None, 7, 7, 4)           148       \n",
      "_________________________________________________________________\n",
      "max_pooling2d_12 (MaxPooling (None, 4, 4, 4)           0         \n",
      "_________________________________________________________________\n",
      "conv2d_22 (Conv2D)           (None, 4, 4, 4)           148       \n",
      "_________________________________________________________________\n",
      "up_sampling2d_7 (UpSampling2 (None, 8, 8, 4)           0         \n",
      "_________________________________________________________________\n",
      "conv2d_23 (Conv2D)           (None, 8, 8, 4)           148       \n",
      "_________________________________________________________________\n",
      "up_sampling2d_8 (UpSampling2 (None, 16, 16, 4)         0         \n",
      "_________________________________________________________________\n",
      "conv2d_24 (Conv2D)           (None, 14, 14, 8)         296       \n",
      "_________________________________________________________________\n",
      "up_sampling2d_9 (UpSampling2 (None, 28, 28, 8)         0         \n",
      "_________________________________________________________________\n",
      "conv2d_25 (Conv2D)           (None, 28, 28, 1)         73        \n",
      "=================================================================\n",
      "Total params: 1,185\n",
      "Trainable params: 1,185\n",
      "Non-trainable params: 0\n",
      "_________________________________________________________________\n"
     ]
    }
   ],
   "source": [
    "input_img = Input(shape=(28, 28, 1))\n",
    "\n",
    "encode1 = Conv2D(8, (3,3), activation='relu', padding='same')(input_img)\n",
    "encode2 = MaxPooling2D((2,2), padding='same')(encode1)\n",
    "encode3 = Conv2D(4, (3,3), activation='relu', padding='same')(encode2)\n",
    "encode4 = MaxPooling2D((2,2), padding='same')(encode3)\n",
    "encode5 = Conv2D(4, (3,3), activation='relu', padding='same')(encode4)\n",
    "encode6 = MaxPooling2D((2,2), padding='same')(encode5)\n",
    "\n",
    "decode1 = Conv2D(4, (3,3), activation='relu', padding='same')(encode6)\n",
    "decode2  = UpSampling2D((2,2))(decode1)\n",
    "decode3 = Conv2D(4, (3,3), activation='relu', padding='same')(decode2)\n",
    "decode4  = UpSampling2D((2,2))(decode3)\n",
    "decode5 = Conv2D(8, (3,3), activation='relu')(decode4)\n",
    "decode6  = UpSampling2D((2,2))(decode5)\n",
    "decode7  = Conv2D(1, (3,3), activation='relu', padding='same')(decode6)\n",
    "\n",
    "model = models.Model(input_img, decode7)\n",
    "model.summary()"
   ]
  },
  {
   "cell_type": "code",
   "execution_count": 14,
   "metadata": {},
   "outputs": [
    {
     "name": "stdout",
     "output_type": "stream",
     "text": [
      "Epoch 1/50\n",
      "60000/60000 [==============================] - 5s 86us/step - loss: 3505.3407\n",
      "Epoch 2/50\n",
      "60000/60000 [==============================] - 3s 58us/step - loss: 2622.5616\n",
      "Epoch 3/50\n",
      "60000/60000 [==============================] - 3s 56us/step - loss: 2344.7373\n",
      "Epoch 4/50\n",
      "60000/60000 [==============================] - 3s 58us/step - loss: 2197.8161\n",
      "Epoch 5/50\n",
      "60000/60000 [==============================] - 3s 56us/step - loss: 2095.4291\n",
      "Epoch 6/50\n",
      "60000/60000 [==============================] - 3s 55us/step - loss: 2014.5407\n",
      "Epoch 7/50\n",
      "60000/60000 [==============================] - 3s 57us/step - loss: 1949.5635\n",
      "Epoch 8/50\n",
      "60000/60000 [==============================] - 4s 60us/step - loss: 1895.5313\n",
      "Epoch 9/50\n",
      "60000/60000 [==============================] - 4s 61us/step - loss: 1848.0377\n",
      "Epoch 10/50\n",
      "60000/60000 [==============================] - 4s 60us/step - loss: 1809.5714\n",
      "Epoch 11/50\n",
      "60000/60000 [==============================] - 3s 57us/step - loss: 1775.4684\n",
      "Epoch 12/50\n",
      "60000/60000 [==============================] - 3s 57us/step - loss: 1746.5774\n",
      "Epoch 13/50\n",
      "60000/60000 [==============================] - 3s 57us/step - loss: 1718.7429\n",
      "Epoch 14/50\n",
      "60000/60000 [==============================] - 3s 56us/step - loss: 1692.1984\n",
      "Epoch 15/50\n",
      "60000/60000 [==============================] - 3s 54us/step - loss: 1667.8331\n",
      "Epoch 16/50\n",
      "60000/60000 [==============================] - 3s 56us/step - loss: 1645.3509\n",
      "Epoch 17/50\n",
      "60000/60000 [==============================] - 3s 57us/step - loss: 1624.1788\n",
      "Epoch 18/50\n",
      "60000/60000 [==============================] - 3s 55us/step - loss: 1603.0376\n",
      "Epoch 19/50\n",
      "60000/60000 [==============================] - 3s 56us/step - loss: 1583.6428\n",
      "Epoch 20/50\n",
      "60000/60000 [==============================] - 3s 56us/step - loss: 1567.9907\n",
      "Epoch 21/50\n",
      "60000/60000 [==============================] - 3s 53us/step - loss: 1551.4569\n",
      "Epoch 22/50\n",
      "60000/60000 [==============================] - 3s 56us/step - loss: 1538.6677\n",
      "Epoch 23/50\n",
      "60000/60000 [==============================] - 4s 60us/step - loss: 1526.2646\n",
      "Epoch 24/50\n",
      "60000/60000 [==============================] - 4s 59us/step - loss: 1516.7728\n",
      "Epoch 25/50\n",
      "60000/60000 [==============================] - 3s 58us/step - loss: 1506.1359\n",
      "Epoch 26/50\n",
      "60000/60000 [==============================] - 3s 58us/step - loss: 1498.4361\n",
      "Epoch 27/50\n",
      "60000/60000 [==============================] - 4s 58us/step - loss: 1488.9368\n",
      "Epoch 28/50\n",
      "60000/60000 [==============================] - 3s 58us/step - loss: 1481.1628\n",
      "Epoch 29/50\n",
      "60000/60000 [==============================] - 4s 59us/step - loss: 1474.5291\n",
      "Epoch 30/50\n",
      "60000/60000 [==============================] - 3s 57us/step - loss: 1467.2281\n",
      "Epoch 31/50\n",
      "60000/60000 [==============================] - 3s 58us/step - loss: 1460.5845\n",
      "Epoch 32/50\n",
      "60000/60000 [==============================] - 3s 58us/step - loss: 1454.5281\n",
      "Epoch 33/50\n",
      "60000/60000 [==============================] - 3s 58us/step - loss: 1446.9962\n",
      "Epoch 34/50\n",
      "60000/60000 [==============================] - 4s 60us/step - loss: 1439.9866\n",
      "Epoch 35/50\n",
      "60000/60000 [==============================] - 4s 59us/step - loss: 1432.7804\n",
      "Epoch 36/50\n",
      "60000/60000 [==============================] - 4s 59us/step - loss: 1426.3309\n",
      "Epoch 37/50\n",
      "60000/60000 [==============================] - 3s 56us/step - loss: 1418.4819\n",
      "Epoch 38/50\n",
      "60000/60000 [==============================] - 4s 59us/step - loss: 1413.8176\n",
      "Epoch 39/50\n",
      "60000/60000 [==============================] - 3s 58us/step - loss: 1407.7629\n",
      "Epoch 40/50\n",
      "60000/60000 [==============================] - 3s 58us/step - loss: 1401.7002\n",
      "Epoch 41/50\n",
      "60000/60000 [==============================] - 3s 58us/step - loss: 1398.0690\n",
      "Epoch 42/50\n",
      "60000/60000 [==============================] - 3s 58us/step - loss: 1391.9927\n",
      "Epoch 43/50\n",
      "60000/60000 [==============================] - 3s 58us/step - loss: 1387.2193\n",
      "Epoch 44/50\n",
      "60000/60000 [==============================] - 3s 58us/step - loss: 1382.6569\n",
      "Epoch 45/50\n",
      "60000/60000 [==============================] - 3s 55us/step - loss: 1377.8799\n",
      "Epoch 46/50\n",
      "60000/60000 [==============================] - 3s 55us/step - loss: 1372.9476\n",
      "Epoch 47/50\n",
      "60000/60000 [==============================] - 3s 55us/step - loss: 1368.7354\n",
      "Epoch 48/50\n",
      "60000/60000 [==============================] - 3s 54us/step - loss: 1363.4600\n",
      "Epoch 49/50\n",
      "60000/60000 [==============================] - 3s 55us/step - loss: 1360.3889\n",
      "Epoch 50/50\n",
      "60000/60000 [==============================] - 3s 55us/step - loss: 1356.1906\n"
     ]
    }
   ],
   "source": [
    "model.compile(optimizer='RMSprop', loss='mean_squared_error')\n",
    "history = model.fit(x_train, x_train, batch_size=128, epochs=50)"
   ]
  },
  {
   "cell_type": "code",
   "execution_count": 16,
   "metadata": {},
   "outputs": [],
   "source": [
    "ae_output = model.predict(x_test).reshape((10000, 28, 28))"
   ]
  },
  {
   "cell_type": "code",
   "execution_count": 19,
   "metadata": {},
   "outputs": [
    {
     "data": {
      "image/png": "[encoded data removed]",
      "text/plain": [
       "<Figure size 576x720 with 20 Axes>"
      ]
     },
     "metadata": {
      "needs_background": "light"
     },
     "output_type": "display_data"
    }
   ],
   "source": [
    "import matplotlib.pyplot as plt\n",
    "%matplotlib inline\n",
    "\n",
    "ROW = 5\n",
    "COLUMN = 4\n",
    "\n",
    "x = ae_output\n",
    "\n",
    "fig, axes = plt.subplots(nrows=ROW, ncols=COLUMN, figsize=(8, 10))\n",
    "for ax, i in zip(axes.flat, np.arange(ROW*COLUMN)):\n",
    "    image = x[i].reshape(28, 28)\n",
    "    ax.imshow(image, cmap='gray')\n",
    "    ax.axis('off')\n",
    "\n",
    "plt.tight_layout()\n",
    "plt.show()"
   ]
  }
 ],
 "metadata": {
  "kernelspec": {
   "display_name": "Python 3",
   "language": "python",
   "name": "python3"
  },
  "language_info": {
   "codemirror_mode": {
    "name": "ipython",
    "version": 3
   },
   "file_extension": ".py",
   "mimetype": "text/x-python",
   "name": "python",
   "nbconvert_exporter": "python",
   "pygments_lexer": "ipython3",
   "version": "3.6.10"
  }
 },
 "nbformat": 4,
 "nbformat_minor": 4
}
