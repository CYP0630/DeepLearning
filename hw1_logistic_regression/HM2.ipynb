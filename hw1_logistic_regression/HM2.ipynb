{
 "cells": [
  {
   "cell_type": "markdown",
   "metadata": {},
   "source": [
    "# HM2: Numerical Optimization for Logistic Regression.\n",
    "\n",
    "### Name: [Yupeng Cao]\n",
    "### ID: [10454637]\n"
   ]
  },
  {
   "cell_type": "markdown",
   "metadata": {},
   "source": [
    "## 0. You will do the following:\n",
    "\n",
    "1. Read the lecture note: [click here](https://github.com/wangshusen/DeepLearning/blob/master/LectureNotes/Logistic/paper/logistic.pdf)\n",
    "\n",
    "2. Read, complete, and run my code.\n",
    "\n",
    "3. **Implement mini-batch SGD** and evaluate the performance.\n",
    "\n",
    "4. Convert the .IPYNB file to .HTML file.\n",
    "\n",
    "    * The HTML file must contain **the code** and **the output after execution**.\n",
    "    \n",
    "    * Missing **the output after execution** will not be graded.\n",
    "    \n",
    "5. Upload this .HTML file to your Google Drive, Dropbox, or your Github repo.  (If you submit the file to Google Drive or Dropbox, you must make the file \"open-access\". The delay caused by \"deny of access\" may result in late penalty.)\n",
    "\n",
    "6. Submit the link to this .HTML file to Canvas.\n",
    "\n",
    "    * Example: https://github.com/wangshusen/CS583-2020S/blob/master/homework/HM2/HM2.html\n",
    "\n",
    "\n",
    "## Grading criteria:\n",
    "\n",
    "1. When computing the ```gradient``` and ```objective function value``` using a batch of samples, use **matrix-vector multiplication** rather than a FOR LOOP of **vector-vector multiplications**.\n",
    "\n",
    "2. Plot ```objective function value``` against ```epochs```. In the plot, compare GD, SGD, and MB-SGD (with $b=8$ and $b=64$). The plot must look reasonable."
   ]
  },
  {
   "cell_type": "code",
   "execution_count": null,
   "metadata": {},
   "outputs": [],
   "source": []
  },
  {
   "cell_type": "markdown",
   "metadata": {},
   "source": [
    "# 1. Data processing\n",
    "\n",
    "- Download the Diabete dataset from https://www.csie.ntu.edu.tw/~cjlin/libsvmtools/datasets/binary/diabetes\n",
    "- Load the data using sklearn.\n",
    "- Preprocess the data."
   ]
  },
  {
   "cell_type": "markdown",
   "metadata": {},
   "source": [
    "## 1.1. Load the data"
   ]
  },
  {
   "cell_type": "code",
   "execution_count": 1,
   "metadata": {},
   "outputs": [
    {
     "name": "stdout",
     "output_type": "stream",
     "text": [
      "Shape of x: (768, 8)\n",
      "Shape of y: (768,)\n"
     ]
    }
   ],
   "source": [
    "from sklearn import datasets\n",
    "import numpy\n",
    "\n",
    "x_sparse, y = datasets.load_svmlight_file('diabetes')\n",
    "x = x_sparse.todense() # To matrix\n",
    "\n",
    "print('Shape of x: ' + str(x.shape))\n",
    "print('Shape of y: ' + str(y.shape))\n"
   ]
  },
  {
   "cell_type": "markdown",
   "metadata": {},
   "source": [
    "## 1.2. Partition to training and test sets"
   ]
  },
  {
   "cell_type": "code",
   "execution_count": 2,
   "metadata": {},
   "outputs": [
    {
     "name": "stdout",
     "output_type": "stream",
     "text": [
      "Shape of x_train: (640, 8)\n",
      "Shape of x_test: (128, 8)\n",
      "Shape of y_train: (640, 1)\n",
      "Shape of y_test: (128, 1)\n"
     ]
    }
   ],
   "source": [
    "# partition the data to training and test sets\n",
    "n = x.shape[0]\n",
    "n_train = 640\n",
    "n_test = n - n_train\n",
    "\n",
    "rand_indices = numpy.random.permutation(n) # Shuffle Operation\n",
    "train_indices = rand_indices[0:n_train]\n",
    "test_indices = rand_indices[n_train:n]\n",
    "\n",
    "x_train = x[train_indices, :]\n",
    "x_test = x[test_indices, :]\n",
    "y_train = y[train_indices].reshape(n_train, 1)\n",
    "y_test = y[test_indices].reshape(n_test, 1)\n",
    "\n",
    "print('Shape of x_train: ' + str(x_train.shape))\n",
    "print('Shape of x_test: ' + str(x_test.shape))\n",
    "print('Shape of y_train: ' + str(y_train.shape))\n",
    "print('Shape of y_test: ' + str(y_test.shape))"
   ]
  },
  {
   "cell_type": "markdown",
   "metadata": {},
   "source": [
    "## 1.3. Feature scaling"
   ]
  },
  {
   "cell_type": "markdown",
   "metadata": {},
   "source": [
    "Use the standardization to trainsform both training and test features"
   ]
  },
  {
   "cell_type": "code",
   "execution_count": 3,
   "metadata": {},
   "outputs": [
    {
     "name": "stdout",
     "output_type": "stream",
     "text": [
      "test mean = \n",
      "[[-0.12546771 -0.10894059  0.04083951  0.08877368  0.00688102 -0.02606218\n",
      "   0.05579807 -0.17320479]]\n",
      "test std = \n",
      "[[0.97994226 0.87390702 0.83204878 0.89935691 0.91758175 0.87296319\n",
      "  1.07030078 0.85048135]]\n"
     ]
    }
   ],
   "source": [
    "# Standardization\n",
    "import numpy\n",
    "\n",
    "# calculate mu and sig using the training set\n",
    "d = x_train.shape[1]\n",
    "mu = numpy.mean(x_train, axis=0).reshape(1, d)\n",
    "sig = numpy.std(x_train, axis=0).reshape(1, d)\n",
    "\n",
    "# transform the training features\n",
    "x_train = (x_train - mu) / (sig + 1E-6)\n",
    "\n",
    "# transform the test features\n",
    "x_test = (x_test - mu) / (sig + 1E-6)\n",
    "\n",
    "print('test mean = ')\n",
    "print(numpy.mean(x_test, axis=0))\n",
    "\n",
    "print('test std = ')\n",
    "print(numpy.std(x_test, axis=0))"
   ]
  },
  {
   "cell_type": "markdown",
   "metadata": {},
   "source": [
    "## 1.4. Add a dimension of all ones"
   ]
  },
  {
   "cell_type": "code",
   "execution_count": 4,
   "metadata": {},
   "outputs": [
    {
     "name": "stdout",
     "output_type": "stream",
     "text": [
      "Shape of x_train: (640, 9)\n",
      "Shape of x_test: (128, 9)\n"
     ]
    }
   ],
   "source": [
    "# Wx + b -> Wx\n",
    "n_train, d = x_train.shape\n",
    "x_train = numpy.concatenate((x_train, numpy.ones((n_train, 1))), axis=1)\n",
    "\n",
    "n_test, d = x_test.shape\n",
    "x_test = numpy.concatenate((x_test, numpy.ones((n_test, 1))), axis=1)\n",
    "\n",
    "print('Shape of x_train: ' + str(x_train.shape))\n",
    "print('Shape of x_test: ' + str(x_test.shape))"
   ]
  },
  {
   "cell_type": "markdown",
   "metadata": {},
   "source": [
    "# 2. Logistic regression model\n",
    "\n",
    "The objective function is $Q (w; X, y) = \\frac{1}{n} \\sum_{i=1}^n \\log \\Big( 1 + \\exp \\big( - y_i x_i^T w \\big) \\Big) + \\frac{\\lambda}{2} \\| w \\|_2^2 $."
   ]
  },
  {
   "cell_type": "code",
   "execution_count": 5,
   "metadata": {},
   "outputs": [],
   "source": [
    "# Calculate the objective function value\n",
    "# Inputs:\n",
    "#     w: d-by-1 matrix\n",
    "#     x: n-by-d matrix\n",
    "#     y: n-by-1 matrix\n",
    "#     lam: scalar, the regularization parameter\n",
    "# Return:\n",
    "#     objective function value (scalar)\n",
    "def objective(w, x, y, lam):\n",
    "    n, d = x.shape\n",
    "    yx = numpy.multiply(y, x) # n-by-d matrix\n",
    "    yxw = numpy.dot(yx, w) # n-by-1 matrix\n",
    "    vec1 = numpy.exp(-yxw) # n-by-1 matrix\n",
    "    vec2 = numpy.log(1 + vec1) # n-by-1 matrix\n",
    "    loss = numpy.mean(vec2) # scalar\n",
    "    reg = lam / 2 * numpy.sum(w * w) # scalar\n",
    "    return loss + reg\n"
   ]
  },
  {
   "cell_type": "code",
   "execution_count": 6,
   "metadata": {},
   "outputs": [
    {
     "name": "stdout",
     "output_type": "stream",
     "text": [
      "Initial objective function value = 0.6931471805599453\n"
     ]
    }
   ],
   "source": [
    "# initialize w\n",
    "d = x_train.shape[1]\n",
    "w = numpy.zeros((d, 1))\n",
    "\n",
    "# evaluate the objective function value at w\n",
    "lam = 1E-6\n",
    "objval0 = objective(w, x_train, y_train, lam)\n",
    "print('Initial objective function value = ' + str(objval0))"
   ]
  },
  {
   "cell_type": "markdown",
   "metadata": {},
   "source": [
    "# 3. Numerical optimization"
   ]
  },
  {
   "cell_type": "markdown",
   "metadata": {},
   "source": [
    "## 3.1. Gradient descent\n"
   ]
  },
  {
   "cell_type": "markdown",
   "metadata": {},
   "source": [
    "The gradient at $w$ is $g = - \\frac{1}{n} \\sum_{i=1}^n \\frac{y_i x_i }{1 + \\exp ( y_i x_i^T w)} + \\lambda w$"
   ]
  },
  {
   "cell_type": "code",
   "execution_count": 7,
   "metadata": {},
   "outputs": [],
   "source": [
    "# Calculate the gradient\n",
    "# Inputs:\n",
    "#     w: d-by-1 matrix\n",
    "#     x: n-by-d matrix\n",
    "#     y: n-by-1 matrix\n",
    "#     lam: scalar, the regularization parameter\n",
    "# Return:\n",
    "#     g: g: d-by-1 matrix, full gradient\n",
    "def gradient(w, x, y, lam):\n",
    "    n, d = x.shape\n",
    "    yx = numpy.multiply(y, x) # n-by-d matrix\n",
    "    yxw = numpy.dot(yx, w) # n-by-1 matrix\n",
    "    vec1 = numpy.exp(yxw) # n-by-1 matrix\n",
    "    vec2 = numpy.divide(yx, 1+vec1) # n-by-d matrix\n",
    "    vec3 = -numpy.mean(vec2, axis=0).reshape(d, 1) # d-by-1 matrix\n",
    "    g = vec3 + lam * w\n",
    "    return g"
   ]
  },
  {
   "cell_type": "code",
   "execution_count": 8,
   "metadata": {},
   "outputs": [],
   "source": [
    "# Gradient descent for solving logistic regression\n",
    "# Inputs:\n",
    "#     x: n-by-d matrix\n",
    "#     y: n-by-1 matrix\n",
    "#     lam: scalar, the regularization parameter\n",
    "#     stepsize: scalar\n",
    "#     max_iter: integer, the maximal iterations\n",
    "#     w: d-by-1 matrix, initialization of w\n",
    "# Return:\n",
    "#     w: d-by-1 matrix, the solution\n",
    "#     objvals: a record of each iteration's objective value\n",
    "def grad_descent(x, y, lam, stepsize, max_iter=100, w=None):\n",
    "    n, d = x.shape\n",
    "    objvals = numpy.zeros(max_iter) # store the objective values\n",
    "    if w is None:\n",
    "        w = numpy.zeros((d, 1)) # zero initialization\n",
    "    \n",
    "    for t in range(max_iter):\n",
    "        objval = objective(w, x, y, lam)\n",
    "        objvals[t] = objval\n",
    "        print('Objective value at t=' + str(t) + ' is ' + str(objval))\n",
    "        g = gradient(w, x, y, lam)\n",
    "        w -= stepsize * g\n",
    "    \n",
    "    return w, objvals"
   ]
  },
  {
   "cell_type": "markdown",
   "metadata": {},
   "source": [
    "Run gradient descent."
   ]
  },
  {
   "cell_type": "code",
   "execution_count": 9,
   "metadata": {},
   "outputs": [
    {
     "name": "stdout",
     "output_type": "stream",
     "text": [
      "Objective value at t=0 is 0.6931471805599453\n",
      "Objective value at t=1 is 0.5880502472738328\n",
      "Objective value at t=2 is 0.5447413338319743\n",
      "Objective value at t=3 is 0.5215008689109031\n",
      "Objective value at t=4 is 0.5070457683507542\n",
      "Objective value at t=5 is 0.49727082959288044\n",
      "Objective value at t=6 is 0.49030771147883573\n",
      "Objective value at t=7 is 0.4851702373472113\n",
      "Objective value at t=8 is 0.48128237418583514\n",
      "Objective value at t=9 is 0.4782827982735022\n",
      "Objective value at t=10 is 0.47593284615931253\n",
      "Objective value at t=11 is 0.47406865145292626\n",
      "Objective value at t=12 is 0.4725742731727543\n",
      "Objective value at t=13 is 0.4713656801797989\n",
      "Objective value at t=14 is 0.4703807470277214\n",
      "Objective value at t=15 is 0.4695727666802894\n",
      "Objective value at t=16 is 0.46890611402374927\n",
      "Objective value at t=17 is 0.468353273082858\n",
      "Objective value at t=18 is 0.4678927550410798\n",
      "Objective value at t=19 is 0.46750761290701326\n",
      "Objective value at t=20 is 0.46718436446199096\n",
      "Objective value at t=21 is 0.46691219985986415\n",
      "Objective value at t=22 is 0.46668239099534997\n",
      "Objective value at t=23 is 0.4664878460291994\n",
      "Objective value at t=24 is 0.466322769756692\n",
      "Objective value at t=25 is 0.4661824021077194\n",
      "Objective value at t=26 is 0.4660628149771272\n",
      "Objective value at t=27 is 0.46596075305843127\n",
      "Objective value at t=28 is 0.4658735081945462\n",
      "Objective value at t=29 is 0.4657988194874141\n",
      "Objective value at t=30 is 0.4657347933692139\n",
      "Objective value at t=31 is 0.4656798392624166\n",
      "Objective value at t=32 is 0.4656326175015328\n",
      "Objective value at t=33 is 0.4655919969641699\n",
      "Objective value at t=34 is 0.4655570204382867\n",
      "Objective value at t=35 is 0.46552687618931915\n",
      "Objective value at t=36 is 0.46550087452283995\n",
      "Objective value at t=37 is 0.46547842839265735\n",
      "Objective value at t=38 is 0.4654590373003548\n",
      "Objective value at t=39 is 0.46544227388453846\n",
      "Objective value at t=40 is 0.46542777271705654\n",
      "Objective value at t=41 is 0.46541522091699294\n",
      "Objective value at t=42 is 0.46540435026720833\n",
      "Objective value at t=43 is 0.46539493057699016\n",
      "Objective value at t=44 is 0.46538676408134905\n",
      "Objective value at t=45 is 0.46537968070521096\n",
      "Objective value at t=46 is 0.46537353405116577\n",
      "Objective value at t=47 is 0.4653681979940648\n",
      "Objective value at t=48 is 0.4653635637857956\n",
      "Objective value at t=49 is 0.4653595375899109\n",
      "Objective value at t=50 is 0.4653560383791887\n",
      "Objective value at t=51 is 0.4653529961402207\n",
      "Objective value at t=52 is 0.4653503503382047\n",
      "Objective value at t=53 is 0.46534804860264095\n",
      "Objective value at t=54 is 0.4653460456008657\n",
      "Objective value at t=55 is 0.46534430207154764\n",
      "Objective value at t=56 is 0.4653427839946013\n",
      "Objective value at t=57 is 0.46534146187759196\n",
      "Objective value at t=58 is 0.4653403101417403\n",
      "Objective value at t=59 is 0.46533930659318795\n",
      "Objective value at t=60 is 0.46533843196732444\n",
      "Objective value at t=61 is 0.4653376695357916\n",
      "Objective value at t=62 is 0.4653370047673082\n",
      "Objective value at t=63 is 0.4653364250347498\n",
      "Objective value at t=64 is 0.46533591936202146\n",
      "Objective value at t=65 is 0.4653354782051863\n",
      "Objective value at t=66 is 0.46533509326311107\n",
      "Objective value at t=67 is 0.46533475731356083\n",
      "Objective value at t=68 is 0.46533446407125134\n",
      "Objective value at t=69 is 0.46533420806486137\n",
      "Objective value at t=70 is 0.4653339845304222\n",
      "Objective value at t=71 is 0.4653337893188653\n",
      "Objective value at t=72 is 0.4653336188158167\n",
      "Objective value at t=73 is 0.4653334698719858\n",
      "Objective value at t=74 is 0.46533333974273067\n",
      "Objective value at t=75 is 0.46533322603556826\n",
      "Objective value at t=76 is 0.46533312666457327\n",
      "Objective value at t=77 is 0.4653330398107452\n",
      "Objective value at t=78 is 0.4653329638875564\n",
      "Objective value at t=79 is 0.46533289751099016\n",
      "Objective value at t=80 is 0.46533283947348053\n",
      "Objective value at t=81 is 0.46533278872123757\n",
      "Objective value at t=82 is 0.46533274433451305\n",
      "Objective value at t=83 is 0.4653327055104226\n",
      "Objective value at t=84 is 0.46533267154798785\n",
      "Objective value at t=85 is 0.4653326418351091\n",
      "Objective value at t=86 is 0.46533261583721797\n",
      "Objective value at t=87 is 0.46533259308738983\n",
      "Objective value at t=88 is 0.4653325731777276\n",
      "Objective value at t=89 is 0.46533255575185006\n",
      "Objective value at t=90 is 0.4653325404983454\n",
      "Objective value at t=91 is 0.46533252714506035\n",
      "Objective value at t=92 is 0.46533251545412146\n",
      "Objective value at t=93 is 0.465332505217591\n",
      "Objective value at t=94 is 0.46533249625367773\n",
      "Objective value at t=95 is 0.4653324884034298\n",
      "Objective value at t=96 is 0.46533248152784984\n",
      "Objective value at t=97 is 0.46533247550537526\n",
      "Objective value at t=98 is 0.46533247022967983\n",
      "Objective value at t=99 is 0.4653324656077532\n"
     ]
    }
   ],
   "source": [
    "lam = 1E-6\n",
    "stepsize = 1.0\n",
    "w, objvals_gd = grad_descent(x_train, y_train, lam, stepsize)"
   ]
  },
  {
   "cell_type": "markdown",
   "metadata": {},
   "source": [
    "## 3.2. Stochastic gradient descent (SGD)\n",
    "\n",
    "Define $Q_i (w) = \\log \\Big( 1 + \\exp \\big( - y_i x_i^T w \\big) \\Big) + \\frac{\\lambda}{2} \\| w \\|_2^2 $.\n",
    "\n",
    "The stochastic gradient at $w$ is $g_i = \\frac{\\partial Q_i }{ \\partial w} = -\\frac{y_i x_i }{1 + \\exp ( y_i x_i^T w)} + \\lambda w$."
   ]
  },
  {
   "cell_type": "code",
   "execution_count": 10,
   "metadata": {},
   "outputs": [],
   "source": [
    "# Calculate the objective Q_i and the gradient of Q_i\n",
    "# Inputs:\n",
    "#     w: d-by-1 matrix\n",
    "#     xi: 1-by-d matrix\n",
    "#     yi: scalar\n",
    "#     lam: scalar, the regularization parameter\n",
    "# Return:\n",
    "#     obj: scalar, the objective Q_i\n",
    "#     g: d-by-1 matrix, gradient of Q_i\n",
    "def stochastic_objective_gradient(w, xi, yi, lam):\n",
    "    d = xi.shape[0]\n",
    "    yx = yi * xi # 1-by-d matrix\n",
    "    yxw = float(numpy.dot(yx, w)) # scalar\n",
    "    \n",
    "    # calculate objective function Q_i\n",
    "    loss = numpy.log(1 + numpy.exp(-yxw)) # scalar\n",
    "    reg = lam / 2 * numpy.sum(w * w) # scalar\n",
    "    obj = loss + reg\n",
    "    \n",
    "    # calculate stochastic gradient\n",
    "    g_loss = -yx.T / (1 + numpy.exp(yxw)) # d-by-1 matrix\n",
    "    g = g_loss + lam * w # d-by-1 matrix\n",
    "    \n",
    "    return obj, g"
   ]
  },
  {
   "cell_type": "code",
   "execution_count": 11,
   "metadata": {},
   "outputs": [],
   "source": [
    "# SGD for solving logistic regression\n",
    "# Inputs:\n",
    "#     x: n-by-d matrix\n",
    "#     y: n-by-1 matrix\n",
    "#     lam: scalar, the regularization parameter\n",
    "#     stepsize: scalar\n",
    "#     max_epoch: integer, the maximal epochs\n",
    "#     w: d-by-1 matrix, initialization of w\n",
    "# Return:\n",
    "#     w: the solution\n",
    "#     objvals: record of each iteration's objective value\n",
    "def sgd(x, y, lam, stepsize, max_epoch=100, w=None):\n",
    "    n, d = x.shape\n",
    "    objvals = numpy.zeros(max_epoch) # store the objective values\n",
    "    if w is None:\n",
    "        w = numpy.zeros((d, 1)) # zero initialization\n",
    "    \n",
    "    for t in range(max_epoch):\n",
    "        # randomly shuffle the samples\n",
    "        rand_indices = numpy.random.permutation(n)\n",
    "        x_rand = x[rand_indices, :]\n",
    "        y_rand = y[rand_indices, :]\n",
    "        \n",
    "        objval = 0 # accumulate the objective values\n",
    "        for i in range(n):\n",
    "            xi = x_rand[i, :] # 1-by-d matrix\n",
    "            yi = float(y_rand[i, :]) # scalar\n",
    "            obj, g = stochastic_objective_gradient(w, xi, yi, lam)\n",
    "            objval += obj\n",
    "            w -= stepsize * g\n",
    "        \n",
    "        stepsize *= 0.9 # decrease step size\n",
    "        objval /= n\n",
    "        objvals[t] = objval\n",
    "        print('Objective value at epoch t=' + str(t) + ' is ' + str(objval))\n",
    "    \n",
    "    return w, objvals"
   ]
  },
  {
   "cell_type": "markdown",
   "metadata": {},
   "source": [
    "Run SGD."
   ]
  },
  {
   "cell_type": "code",
   "execution_count": 12,
   "metadata": {},
   "outputs": [
    {
     "name": "stdout",
     "output_type": "stream",
     "text": [
      "Objective value at epoch t=0 is 0.5203912368601066\n",
      "Objective value at epoch t=1 is 0.51534037187753\n",
      "Objective value at epoch t=2 is 0.5083357021132415\n",
      "Objective value at epoch t=3 is 0.5071593339397612\n",
      "Objective value at epoch t=4 is 0.5023552616501739\n",
      "Objective value at epoch t=5 is 0.4974294079255791\n",
      "Objective value at epoch t=6 is 0.49620475388990615\n",
      "Objective value at epoch t=7 is 0.4960120425474174\n",
      "Objective value at epoch t=8 is 0.48999112815115914\n",
      "Objective value at epoch t=9 is 0.48638759304250134\n",
      "Objective value at epoch t=10 is 0.4854208140008448\n",
      "Objective value at epoch t=11 is 0.4779840770855991\n",
      "Objective value at epoch t=12 is 0.48373983590856123\n",
      "Objective value at epoch t=13 is 0.48066154327954963\n",
      "Objective value at epoch t=14 is 0.477810096908817\n",
      "Objective value at epoch t=15 is 0.48044709645369627\n",
      "Objective value at epoch t=16 is 0.4758638328380508\n",
      "Objective value at epoch t=17 is 0.4748624709778217\n",
      "Objective value at epoch t=18 is 0.4758849564578613\n",
      "Objective value at epoch t=19 is 0.4745515639830721\n",
      "Objective value at epoch t=20 is 0.4731741328646374\n",
      "Objective value at epoch t=21 is 0.4720663832505207\n",
      "Objective value at epoch t=22 is 0.47145935496304175\n",
      "Objective value at epoch t=23 is 0.471197644630592\n",
      "Objective value at epoch t=24 is 0.47101873863584187\n",
      "Objective value at epoch t=25 is 0.4696756144830099\n",
      "Objective value at epoch t=26 is 0.4700151292260905\n",
      "Objective value at epoch t=27 is 0.4687741751683351\n",
      "Objective value at epoch t=28 is 0.46909711554362127\n",
      "Objective value at epoch t=29 is 0.4686603683990017\n",
      "Objective value at epoch t=30 is 0.46845389408623805\n",
      "Objective value at epoch t=31 is 0.4679476324280075\n",
      "Objective value at epoch t=32 is 0.46747210209550516\n",
      "Objective value at epoch t=33 is 0.467407733570525\n",
      "Objective value at epoch t=34 is 0.46736443162055413\n",
      "Objective value at epoch t=35 is 0.46707841550501444\n",
      "Objective value at epoch t=36 is 0.4669777627997151\n",
      "Objective value at epoch t=37 is 0.466785914775867\n",
      "Objective value at epoch t=38 is 0.46668112378336657\n",
      "Objective value at epoch t=39 is 0.4665236208991933\n",
      "Objective value at epoch t=40 is 0.4664253847940242\n",
      "Objective value at epoch t=41 is 0.4663130213149797\n",
      "Objective value at epoch t=42 is 0.4662077684780603\n",
      "Objective value at epoch t=43 is 0.46612471687268453\n",
      "Objective value at epoch t=44 is 0.46605120336651373\n",
      "Objective value at epoch t=45 is 0.46598079990317487\n",
      "Objective value at epoch t=46 is 0.46591480887762354\n",
      "Objective value at epoch t=47 is 0.4658581782511284\n",
      "Objective value at epoch t=48 is 0.46580645044029606\n",
      "Objective value at epoch t=49 is 0.46575761454047476\n",
      "Objective value at epoch t=50 is 0.46571599208657705\n",
      "Objective value at epoch t=51 is 0.46567642108107277\n",
      "Objective value at epoch t=52 is 0.46564254725013365\n",
      "Objective value at epoch t=53 is 0.4656130646954396\n",
      "Objective value at epoch t=54 is 0.46558538661045235\n",
      "Objective value at epoch t=55 is 0.46555972774765825\n",
      "Objective value at epoch t=56 is 0.4655373135551182\n",
      "Objective value at epoch t=57 is 0.4655169647273774\n",
      "Objective value at epoch t=58 is 0.46549818763081585\n",
      "Objective value at epoch t=59 is 0.4654816647700068\n",
      "Objective value at epoch t=60 is 0.4654668958354156\n",
      "Objective value at epoch t=61 is 0.465453513743709\n",
      "Objective value at epoch t=62 is 0.4654414870820526\n",
      "Objective value at epoch t=63 is 0.46543068945893157\n",
      "Objective value at epoch t=64 is 0.46542093232210713\n",
      "Objective value at epoch t=65 is 0.46541208389137634\n",
      "Objective value at epoch t=66 is 0.46540416787145594\n",
      "Objective value at epoch t=67 is 0.46539703173849034\n",
      "Objective value at epoch t=68 is 0.4653906152897836\n",
      "Objective value at epoch t=69 is 0.46538482448036633\n",
      "Objective value at epoch t=70 is 0.46537961568567415\n",
      "Objective value at epoch t=71 is 0.46537494576033395\n",
      "Objective value at epoch t=72 is 0.4653707130422197\n",
      "Objective value at epoch t=73 is 0.4653669180484723\n",
      "Objective value at epoch t=74 is 0.4653635182483035\n",
      "Objective value at epoch t=75 is 0.465360436532951\n",
      "Objective value at epoch t=76 is 0.4653576656628304\n",
      "Objective value at epoch t=77 is 0.4653551781463007\n",
      "Objective value at epoch t=78 is 0.46535293543107425\n",
      "Objective value at epoch t=79 is 0.4653509264483294\n",
      "Objective value at epoch t=80 is 0.46534910562503856\n",
      "Objective value at epoch t=81 is 0.4653474756183301\n",
      "Objective value at epoch t=82 is 0.4653460056982749\n",
      "Objective value at epoch t=83 is 0.4653446809699512\n",
      "Objective value at epoch t=84 is 0.4653434865523479\n",
      "Objective value at epoch t=85 is 0.46534241435453216\n",
      "Objective value at epoch t=86 is 0.4653414489181369\n",
      "Objective value at epoch t=87 is 0.46534058192798594\n",
      "Objective value at epoch t=88 is 0.4653397994942412\n",
      "Objective value at epoch t=89 is 0.4653390959263164\n",
      "Objective value at epoch t=90 is 0.46533846228400677\n",
      "Objective value at epoch t=91 is 0.46533789234166595\n",
      "Objective value at epoch t=92 is 0.46533737931446384\n",
      "Objective value at epoch t=93 is 0.46533691760947127\n",
      "Objective value at epoch t=94 is 0.46533650193137976\n",
      "Objective value at epoch t=95 is 0.46533612783496237\n",
      "Objective value at epoch t=96 is 0.4653357912387059\n",
      "Objective value at epoch t=97 is 0.46533548820004383\n",
      "Objective value at epoch t=98 is 0.4653352152905132\n",
      "Objective value at epoch t=99 is 0.46533497000667506\n"
     ]
    }
   ],
   "source": [
    "lam = 1E-6\n",
    "stepsize = 0.1\n",
    "w, objvals_sgd = sgd(x_train, y_train, lam, stepsize)"
   ]
  },
  {
   "cell_type": "markdown",
   "metadata": {},
   "source": [
    "# 4. Compare GD with SGD\n",
    "\n",
    "Plot objective function values against epochs."
   ]
  },
  {
   "cell_type": "code",
   "execution_count": 13,
   "metadata": {},
   "outputs": [
    {
     "data": {
      "image/png": "[encoded data removed]",
      "text/plain": [
       "<Figure size 432x288 with 1 Axes>"
      ]
     },
     "metadata": {
      "needs_background": "light"
     },
     "output_type": "display_data"
    }
   ],
   "source": [
    "import matplotlib.pyplot as plt\n",
    "%matplotlib inline\n",
    "\n",
    "fig = plt.figure(figsize=(6, 4))\n",
    "\n",
    "epochs_gd = range(len(objvals_gd))\n",
    "epochs_sgd = range(len(objvals_sgd))\n",
    "\n",
    "line0, = plt.plot(epochs_gd, objvals_gd, '--b', LineWidth=4)\n",
    "line1, = plt.plot(epochs_sgd, objvals_sgd, '-r', LineWidth=2)\n",
    "plt.xlabel('Epochs', FontSize=20)\n",
    "plt.ylabel('Objective Value', FontSize=20)\n",
    "plt.xticks(FontSize=16)\n",
    "plt.yticks(FontSize=16)\n",
    "plt.legend([line0, line1], ['GD', 'SGD'], fontsize=20)\n",
    "plt.tight_layout()\n",
    "plt.show()\n",
    "fig.savefig('compare_gd_sgd.pdf', format='pdf', dpi=1200)"
   ]
  },
  {
   "cell_type": "markdown",
   "metadata": {},
   "source": [
    "# 5. Prediction"
   ]
  },
  {
   "cell_type": "code",
   "execution_count": 14,
   "metadata": {},
   "outputs": [],
   "source": [
    "# Predict class label\n",
    "# Inputs:\n",
    "#     w: d-by-1 matrix\n",
    "#     X: m-by-d matrix\n",
    "# Return:\n",
    "#     f: m-by-1 matrix, the predictions\n",
    "def predict(w, X):\n",
    "    xw = numpy.dot(X, w)\n",
    "    f = numpy.sign(xw)\n",
    "    return f"
   ]
  },
  {
   "cell_type": "code",
   "execution_count": 15,
   "metadata": {},
   "outputs": [
    {
     "name": "stdout",
     "output_type": "stream",
     "text": [
      "Training classification error is 0.2171875\n"
     ]
    }
   ],
   "source": [
    "# evaluate training error\n",
    "f_train = predict(w, x_train)\n",
    "diff = numpy.abs(f_train - y_train) / 2\n",
    "error_train = numpy.mean(diff)\n",
    "print('Training classification error is ' + str(error_train))"
   ]
  },
  {
   "cell_type": "code",
   "execution_count": 16,
   "metadata": {},
   "outputs": [
    {
     "name": "stdout",
     "output_type": "stream",
     "text": [
      "Test classification error is 0.234375\n"
     ]
    }
   ],
   "source": [
    "# evaluate test error\n",
    "f_test = predict(w, x_test)\n",
    "diff = numpy.abs(f_test - y_test) / 2\n",
    "error_test = numpy.mean(diff)\n",
    "print('Test classification error is ' + str(error_test))"
   ]
  },
  {
   "cell_type": "markdown",
   "metadata": {},
   "source": [
    "# 6. Mini-batch SGD (fill the code)\n",
    "\n"
   ]
  },
  {
   "cell_type": "markdown",
   "metadata": {},
   "source": [
    "## 6.1. Compute the objective $Q_I$ and its gradient using a batch of samples\n",
    "\n",
    "Define $Q_I (w) = \\frac{1}{b} \\sum_{i \\in I} \\log \\Big( 1 + \\exp \\big( - y_i x_i^T w \\big) \\Big) + \\frac{\\lambda}{2} \\| w \\|_2^2 $, where $I$ is a set containing $b$ indices randomly drawn from $\\{ 1, \\cdots , n \\}$ without replacement.\n",
    "\n",
    "The stochastic gradient at $w$ is $g_I = \\frac{\\partial Q_I }{ \\partial w} = \\frac{1}{b} \\sum_{i \\in I} \\frac{- y_i x_i }{1 + \\exp ( y_i x_i^T w)} + \\lambda w$."
   ]
  },
  {
   "cell_type": "code",
   "execution_count": 17,
   "metadata": {},
   "outputs": [],
   "source": [
    "# Calculate the objective Q_I and the gradient of Q_I\n",
    "# Inputs:\n",
    "#     w: d-by-1 matrix\n",
    "#     xi: b-by-d matrix\n",
    "#     yi: b-by-1 matrix\n",
    "#     lam: scalar, the regularization parameter\n",
    "#     b: integer, the batch size\n",
    "# Return:\n",
    "#     obj: scalar, the objective Q_i\n",
    "#     g: d-by-1 matrix, gradient of Q_i\n",
    "def mb_stochastic_objective_gradient(w, xi, yi, lam, b):\n",
    "    # Fill the function\n",
    "    # Follow the implementation of stochastic_objective_gradient\n",
    "    # Use matrix-vector multiplication; do not use FOR LOOP of vector-vector multiplications\n",
    "    \n",
    "    n, d = xi.shape  #In mini-batch SGD: n is b.\n",
    "    yx = numpy.multiply(yi,xi)\n",
    "    yxw = numpy.dot(yx,w)\n",
    "    \n",
    "    loss = numpy.mean(numpy.log(1 + numpy.exp(-yxw)))\n",
    "    reg = lam / 2 * numpy.sum(w * w)\n",
    "    obj = loss + reg\n",
    "    \n",
    "    vec1 = numpy.exp(yxw)\n",
    "    vec2 = numpy.divide(yx, 1+vec1)\n",
    "    vec3 = -numpy.mean(vec2, axis=0).reshape(d, 1)\n",
    "    g = vec3 + lam * w\n",
    "    \n",
    "    return obj, g\n"
   ]
  },
  {
   "cell_type": "markdown",
   "metadata": {},
   "source": [
    "## 6.2. Implement mini-batch SGD\n",
    "\n",
    "Hints:\n",
    "1. In every epoch, randomly permute the $n$ samples (just like SGD).\n",
    "2. Each epoch has $\\frac{n}{b}$ iterations. In every iteration, use $b$ samples, and compute the gradient and objective using the ``mb_stochastic_objective_gradient`` function. In the next iteration, use the next $b$ samples, and so on.\n"
   ]
  },
  {
   "cell_type": "code",
   "execution_count": 37,
   "metadata": {},
   "outputs": [],
   "source": [
    "# Mini-Batch SGD for solving logistic regression\n",
    "# Inputs:\n",
    "#     x: n-by-d matrix\n",
    "#     y: n-by-1 matrix\n",
    "#     lam: scalar, the regularization parameter\n",
    "#     b: integer, the batch size\n",
    "#     stepsize: scalar\n",
    "#     max_epoch: integer, the maximal epochs\n",
    "#     w: d-by-1 matrix, initialization of w\n",
    "# Return:\n",
    "#     w: the solution\n",
    "#     objvals: record of each iteration's objective value\n",
    "def mb_sgd(x, y, lam, b, stepsize, max_epoch=100, w=None):\n",
    "    # Fill the function\n",
    "    # Follow the implementation of sgd\n",
    "    # Record one objective value per epoch (not per iteration!)\n",
    "    n, d = x.shape\n",
    "    objvals = numpy.zeros(max_epoch)\n",
    "    \n",
    "    if w is None:\n",
    "        w = numpy.zeros((d, 1))\n",
    "    \n",
    "    for t in range(max_epoch):\n",
    "        rand_indices = numpy.random.permutation(n)\n",
    "        rand_indicex_idx = rand_indices.reshape((n // b, b))\n",
    "        x_rand = x[rand_indices, :]\n",
    "        y_rand = y[rand_indices, :]\n",
    "        \n",
    "        objval = 0\n",
    "        \n",
    "        for i in rand_indicex_idx:\n",
    "            xi = x_rand[i, :]\n",
    "            yi = y_rand[i, :]\n",
    "            obj, g = mb_stochastic_objective_gradient(w, xi, yi, lam, b)\n",
    "            objval += obj\n",
    "            w -= stepsize * g\n",
    "            \n",
    "        stepsize *= 0.9 # decrease step size\n",
    "        objval /= (n / b)\n",
    "        objvals[t] = objval\n",
    "        print('Objective value at epoch t=' + str(t) + ' is ' + str(objval))\n",
    "    \n",
    "    return w, objvals"
   ]
  },
  {
   "cell_type": "markdown",
   "metadata": {},
   "source": [
    "## 6.3. Run MB-SGD"
   ]
  },
  {
   "cell_type": "code",
   "execution_count": 38,
   "metadata": {},
   "outputs": [
    {
     "name": "stdout",
     "output_type": "stream",
     "text": [
      "Objective value at epoch t=0 is 0.57329373989445\n",
      "Objective value at epoch t=1 is 0.5002268279528098\n",
      "Objective value at epoch t=2 is 0.4833493599303697\n",
      "Objective value at epoch t=3 is 0.47670840305971945\n",
      "Objective value at epoch t=4 is 0.4733357091961189\n",
      "Objective value at epoch t=5 is 0.47111522494277913\n",
      "Objective value at epoch t=6 is 0.4697969256017057\n",
      "Objective value at epoch t=7 is 0.46921699873124156\n",
      "Objective value at epoch t=8 is 0.4684260819816437\n",
      "Objective value at epoch t=9 is 0.46818779374241204\n",
      "Objective value at epoch t=10 is 0.4676294245196549\n",
      "Objective value at epoch t=11 is 0.46744163906188285\n",
      "Objective value at epoch t=12 is 0.46712860081921165\n",
      "Objective value at epoch t=13 is 0.46686781345413164\n",
      "Objective value at epoch t=14 is 0.4667589307998156\n",
      "Objective value at epoch t=15 is 0.4665622383951418\n",
      "Objective value at epoch t=16 is 0.4664035540969217\n",
      "Objective value at epoch t=17 is 0.4663679224889101\n",
      "Objective value at epoch t=18 is 0.46623518288883065\n",
      "Objective value at epoch t=19 is 0.46615577079209397\n",
      "Objective value at epoch t=20 is 0.4661049603176883\n",
      "Objective value at epoch t=21 is 0.4660394657733516\n",
      "Objective value at epoch t=22 is 0.4659414571465491\n",
      "Objective value at epoch t=23 is 0.4659154559434603\n",
      "Objective value at epoch t=24 is 0.46591691828530524\n",
      "Objective value at epoch t=25 is 0.46583867069224294\n",
      "Objective value at epoch t=26 is 0.46581612298964925\n",
      "Objective value at epoch t=27 is 0.4657577507237735\n",
      "Objective value at epoch t=28 is 0.4657211913500161\n",
      "Objective value at epoch t=29 is 0.465704336357956\n",
      "Objective value at epoch t=30 is 0.4656778967431888\n",
      "Objective value at epoch t=31 is 0.4656390839604424\n",
      "Objective value at epoch t=32 is 0.4656249954047825\n",
      "Objective value at epoch t=33 is 0.46561449720788695\n",
      "Objective value at epoch t=34 is 0.4655803834110917\n",
      "Objective value at epoch t=35 is 0.4655838290115707\n",
      "Objective value at epoch t=36 is 0.46556585518235905\n",
      "Objective value at epoch t=37 is 0.46555513754344224\n",
      "Objective value at epoch t=38 is 0.46553605622236793\n",
      "Objective value at epoch t=39 is 0.4655349161862043\n",
      "Objective value at epoch t=40 is 0.4655238522883091\n",
      "Objective value at epoch t=41 is 0.4655188508286325\n",
      "Objective value at epoch t=42 is 0.46550694629971534\n",
      "Objective value at epoch t=43 is 0.4655047260234215\n",
      "Objective value at epoch t=44 is 0.4654968566611729\n",
      "Objective value at epoch t=45 is 0.46549110709008606\n",
      "Objective value at epoch t=46 is 0.4654844711340302\n",
      "Objective value at epoch t=47 is 0.46548230867783963\n",
      "Objective value at epoch t=48 is 0.46548460458660407\n",
      "Objective value at epoch t=49 is 0.4654757699333129\n",
      "Objective value at epoch t=50 is 0.465473000847489\n",
      "Objective value at epoch t=51 is 0.46547006034151617\n",
      "Objective value at epoch t=52 is 0.46546798482742996\n",
      "Objective value at epoch t=53 is 0.4654656443632854\n",
      "Objective value at epoch t=54 is 0.46546281078069784\n",
      "Objective value at epoch t=55 is 0.4654623233822801\n",
      "Objective value at epoch t=56 is 0.46545973813297203\n",
      "Objective value at epoch t=57 is 0.46545924610375583\n",
      "Objective value at epoch t=58 is 0.4654577438180783\n",
      "Objective value at epoch t=59 is 0.46545652311323576\n",
      "Objective value at epoch t=60 is 0.4654570033895961\n",
      "Objective value at epoch t=61 is 0.46545479395094996\n",
      "Objective value at epoch t=62 is 0.46545440889836687\n",
      "Objective value at epoch t=63 is 0.46545387743397654\n",
      "Objective value at epoch t=64 is 0.465452484300099\n",
      "Objective value at epoch t=65 is 0.46545236197033146\n",
      "Objective value at epoch t=66 is 0.46545099944489604\n",
      "Objective value at epoch t=67 is 0.4654508061626187\n",
      "Objective value at epoch t=68 is 0.4654504595947316\n",
      "Objective value at epoch t=69 is 0.4654500312803096\n",
      "Objective value at epoch t=70 is 0.46544971079043423\n",
      "Objective value at epoch t=71 is 0.4654492656122697\n",
      "Objective value at epoch t=72 is 0.4654487998063336\n",
      "Objective value at epoch t=73 is 0.4654486246853393\n",
      "Objective value at epoch t=74 is 0.4654486436550621\n",
      "Objective value at epoch t=75 is 0.46544830052641517\n",
      "Objective value at epoch t=76 is 0.4654482708310369\n",
      "Objective value at epoch t=77 is 0.4654481183846363\n",
      "Objective value at epoch t=78 is 0.46544777005501803\n",
      "Objective value at epoch t=79 is 0.4654476613886954\n",
      "Objective value at epoch t=80 is 0.4654475129203176\n",
      "Objective value at epoch t=81 is 0.4654474164624681\n",
      "Objective value at epoch t=82 is 0.46544732507038766\n",
      "Objective value at epoch t=83 is 0.4654472064971393\n",
      "Objective value at epoch t=84 is 0.46544714614452526\n",
      "Objective value at epoch t=85 is 0.4654470614379801\n",
      "Objective value at epoch t=86 is 0.4654469790710869\n",
      "Objective value at epoch t=87 is 0.46544692504389024\n",
      "Objective value at epoch t=88 is 0.46544692398400767\n",
      "Objective value at epoch t=89 is 0.46544680952482\n",
      "Objective value at epoch t=90 is 0.46544678509821036\n",
      "Objective value at epoch t=91 is 0.4654467190768946\n",
      "Objective value at epoch t=92 is 0.46544671342796357\n",
      "Objective value at epoch t=93 is 0.46544668083792284\n",
      "Objective value at epoch t=94 is 0.4654466469690098\n",
      "Objective value at epoch t=95 is 0.4654466342272512\n",
      "Objective value at epoch t=96 is 0.46544657452042104\n",
      "Objective value at epoch t=97 is 0.4654465610555311\n",
      "Objective value at epoch t=98 is 0.46544655479502683\n",
      "Objective value at epoch t=99 is 0.46544655359169324\n"
     ]
    }
   ],
   "source": [
    "# MB-SGD with batch size b=8\n",
    "lam = 1E-6 # do not change\n",
    "b = 8 # do not change\n",
    "stepsize = 0.05 # you must tune this parameter\n",
    "\n",
    "w, objvals_mbsgd8 = mb_sgd(x_train, y_train, lam, b, stepsize)"
   ]
  },
  {
   "cell_type": "code",
   "execution_count": 39,
   "metadata": {},
   "outputs": [
    {
     "name": "stdout",
     "output_type": "stream",
     "text": [
      "Objective value at epoch t=0 is 0.6308404945896601\n",
      "Objective value at epoch t=1 is 0.554651219858217\n",
      "Objective value at epoch t=2 is 0.5238999656079923\n",
      "Objective value at epoch t=3 is 0.5076447889086781\n",
      "Objective value at epoch t=4 is 0.49790189605830093\n",
      "Objective value at epoch t=5 is 0.49162168956895824\n",
      "Objective value at epoch t=6 is 0.4873589019858341\n",
      "Objective value at epoch t=7 is 0.48392731024555224\n",
      "Objective value at epoch t=8 is 0.48200124641617653\n",
      "Objective value at epoch t=9 is 0.47988964792562305\n",
      "Objective value at epoch t=10 is 0.4782359663080994\n",
      "Objective value at epoch t=11 is 0.47711095616901655\n",
      "Objective value at epoch t=12 is 0.4763113417355573\n",
      "Objective value at epoch t=13 is 0.4754613646963315\n",
      "Objective value at epoch t=14 is 0.4746300197120389\n",
      "Objective value at epoch t=15 is 0.47408666202461774\n",
      "Objective value at epoch t=16 is 0.47361070999124105\n",
      "Objective value at epoch t=17 is 0.473329929173625\n",
      "Objective value at epoch t=18 is 0.47296811864129423\n",
      "Objective value at epoch t=19 is 0.4725983890929978\n",
      "Objective value at epoch t=20 is 0.472317113019335\n",
      "Objective value at epoch t=21 is 0.4721492931844583\n",
      "Objective value at epoch t=22 is 0.4719025481492771\n",
      "Objective value at epoch t=23 is 0.4717799848377222\n",
      "Objective value at epoch t=24 is 0.471600203983194\n",
      "Objective value at epoch t=25 is 0.4714949715009194\n",
      "Objective value at epoch t=26 is 0.47135068231425103\n",
      "Objective value at epoch t=27 is 0.4712666821273504\n",
      "Objective value at epoch t=28 is 0.4711631159946984\n",
      "Objective value at epoch t=29 is 0.4710849615778461\n",
      "Objective value at epoch t=30 is 0.4709949702111322\n",
      "Objective value at epoch t=31 is 0.4709713174612597\n",
      "Objective value at epoch t=32 is 0.4708792845133708\n",
      "Objective value at epoch t=33 is 0.4708375384356038\n",
      "Objective value at epoch t=34 is 0.47079273874380967\n",
      "Objective value at epoch t=35 is 0.4707399592924303\n",
      "Objective value at epoch t=36 is 0.47071192393486533\n",
      "Objective value at epoch t=37 is 0.4706798385555137\n",
      "Objective value at epoch t=38 is 0.4706546004489165\n",
      "Objective value at epoch t=39 is 0.47063605886307086\n",
      "Objective value at epoch t=40 is 0.47060553149428885\n",
      "Objective value at epoch t=41 is 0.47057325799700134\n",
      "Objective value at epoch t=42 is 0.4705653441011369\n",
      "Objective value at epoch t=43 is 0.47053924764996397\n",
      "Objective value at epoch t=44 is 0.47052324649117283\n",
      "Objective value at epoch t=45 is 0.4705133681240259\n",
      "Objective value at epoch t=46 is 0.47049788539770415\n",
      "Objective value at epoch t=47 is 0.4704912743518938\n",
      "Objective value at epoch t=48 is 0.4704779393438129\n",
      "Objective value at epoch t=49 is 0.47046950299089085\n",
      "Objective value at epoch t=50 is 0.47046094111842673\n",
      "Objective value at epoch t=51 is 0.47045456999405905\n",
      "Objective value at epoch t=52 is 0.4704499994037425\n",
      "Objective value at epoch t=53 is 0.47044376659115716\n",
      "Objective value at epoch t=54 is 0.4704369472689048\n",
      "Objective value at epoch t=55 is 0.470433262675937\n",
      "Objective value at epoch t=56 is 0.47042856407277156\n",
      "Objective value at epoch t=57 is 0.47042540243858255\n",
      "Objective value at epoch t=58 is 0.47042078783666963\n",
      "Objective value at epoch t=59 is 0.47041812100841573\n",
      "Objective value at epoch t=60 is 0.4704156175497721\n",
      "Objective value at epoch t=61 is 0.4704131956096685\n",
      "Objective value at epoch t=62 is 0.47041037749515857\n",
      "Objective value at epoch t=63 is 0.4704097011361029\n",
      "Objective value at epoch t=64 is 0.4704068555280494\n",
      "Objective value at epoch t=65 is 0.47040566553199686\n",
      "Objective value at epoch t=66 is 0.47040416529162793\n",
      "Objective value at epoch t=67 is 0.4704022754712257\n",
      "Objective value at epoch t=68 is 0.4704013572317227\n",
      "Objective value at epoch t=69 is 0.470400159388601\n",
      "Objective value at epoch t=70 is 0.4703993967943537\n",
      "Objective value at epoch t=71 is 0.4703987675322492\n",
      "Objective value at epoch t=72 is 0.47039743199330486\n",
      "Objective value at epoch t=73 is 0.4703968383584874\n",
      "Objective value at epoch t=74 is 0.4703962891350507\n",
      "Objective value at epoch t=75 is 0.4703956970124413\n",
      "Objective value at epoch t=76 is 0.4703951880224263\n",
      "Objective value at epoch t=77 is 0.47039481053768445\n",
      "Objective value at epoch t=78 is 0.47039443216313687\n",
      "Objective value at epoch t=79 is 0.47039392922318424\n",
      "Objective value at epoch t=80 is 0.4703936990797433\n",
      "Objective value at epoch t=81 is 0.47039344947101025\n",
      "Objective value at epoch t=82 is 0.47039307515540985\n",
      "Objective value at epoch t=83 is 0.47039283685144834\n",
      "Objective value at epoch t=84 is 0.4703925976384197\n",
      "Objective value at epoch t=85 is 0.47039241899778383\n",
      "Objective value at epoch t=86 is 0.47039225006395746\n",
      "Objective value at epoch t=87 is 0.4703920625430076\n",
      "Objective value at epoch t=88 is 0.47039190118141205\n",
      "Objective value at epoch t=89 is 0.47039182238193417\n",
      "Objective value at epoch t=90 is 0.47039167967794804\n",
      "Objective value at epoch t=91 is 0.47039155480227457\n",
      "Objective value at epoch t=92 is 0.47039150428598875\n",
      "Objective value at epoch t=93 is 0.4703914219530727\n",
      "Objective value at epoch t=94 is 0.47039130467954954\n",
      "Objective value at epoch t=95 is 0.470391267335574\n",
      "Objective value at epoch t=96 is 0.47039119063894547\n",
      "Objective value at epoch t=97 is 0.47039114242710556\n",
      "Objective value at epoch t=98 is 0.4703910805308259\n",
      "Objective value at epoch t=99 is 0.4703910327979227\n"
     ]
    }
   ],
   "source": [
    "# MB-SGD with batch size b=64\n",
    "lam = 1E-6 # do not change\n",
    "b = 64 # do not change\n",
    "stepsize = 0.15 # you must tune this parameter\n",
    "\n",
    "w, objvals_mbsgd64 = mb_sgd(x_train, y_train, lam, b, stepsize)"
   ]
  },
  {
   "cell_type": "markdown",
   "metadata": {},
   "source": [
    "# 7. Plot and compare GD, SGD, and MB-SGD"
   ]
  },
  {
   "cell_type": "markdown",
   "metadata": {},
   "source": [
    "You are required to compare the following algorithms:\n",
    "\n",
    "- Gradient descent (GD)\n",
    "\n",
    "- SGD\n",
    "\n",
    "- MB-SGD with b=8\n",
    "\n",
    "- MB-SGD with b=64\n",
    "\n",
    "Follow the code in Section 4 to plot ```objective function value``` against ```epochs```. There should be four curves in the plot; each curve corresponds to one algorithm."
   ]
  },
  {
   "cell_type": "markdown",
   "metadata": {},
   "source": [
    "Hint: Logistic regression with $\\ell_2$-norm regularization is a strongly convex optimization problem. All the algorithms will converge to the same solution. **In the end, the ``objective function value`` of the 4 algorithms will be the same. If not the same, your implementation must be wrong. Do NOT submit wrong code and wrong result!**"
   ]
  },
  {
   "cell_type": "code",
   "execution_count": 40,
   "metadata": {},
   "outputs": [
    {
     "data": {
      "image/png": "[encoded data removed]",
      "text/plain": [
       "<Figure size 432x288 with 1 Axes>"
      ]
     },
     "metadata": {
      "needs_background": "light"
     },
     "output_type": "display_data"
    }
   ],
   "source": [
    "fig = plt.figure(figsize=(6, 4))\n",
    "\n",
    "epochs_gd = range(len(objvals_gd))\n",
    "epochs_sgd = range(len(objvals_sgd))\n",
    "epochs_mbsgd8 = range(len(objvals_mbsgd8)) \n",
    "epochs_mbsgd64 = range(len(objvals_mbsgd64)) \n",
    "\n",
    "line0, = plt.plot(epochs_gd, objvals_gd, '--b', LineWidth=4)\n",
    "line1, = plt.plot(epochs_sgd, objvals_sgd, '-r', LineWidth=2)\n",
    "line2, = plt.plot(epochs_mbsgd8, objvals_mbsgd8, '-g', LineWidth=2)\n",
    "line3, = plt.plot(epochs_mbsgd64, objvals_mbsgd64, '-c', LineWidth=2)\n",
    "\n",
    "\n",
    "plt.xlabel('Epochs', FontSize=20)\n",
    "plt.ylabel('Objective Value', FontSize=20)\n",
    "plt.xticks(FontSize=16)\n",
    "plt.yticks(FontSize=16)\n",
    "plt.legend([line0, line1, line2, line3], ['GD', 'SGD', 'Batchsize with 8', 'Batchsize with 64'], fontsize=20)\n",
    "plt.tight_layout()\n",
    "plt.show()\n",
    "fig.savefig('compare_gd_sgd.pdf', format='pdf', dpi=1200)"
   ]
  },
  {
   "cell_type": "markdown",
   "metadata": {},
   "source": []
  }
 ],
 "metadata": {
  "kernelspec": {
   "display_name": "Python 3",
   "language": "python",
   "name": "python3"
  },
  "language_info": {
   "codemirror_mode": {
    "name": "ipython",
    "version": 3
   },
   "file_extension": ".py",
   "mimetype": "text/x-python",
   "name": "python",
   "nbconvert_exporter": "python",
   "pygments_lexer": "ipython3",
   "version": "3.7.3"
  }
 },
 "nbformat": 4,
 "nbformat_minor": 2
}
